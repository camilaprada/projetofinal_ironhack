{
 "cells": [
  {
   "cell_type": "markdown",
   "id": "27e2dc33",
   "metadata": {},
   "source": [
    "# HVBP analysis"
   ]
  },
  {
   "cell_type": "markdown",
   "id": "9c2437ea",
   "metadata": {},
   "source": [
    "Final project Ironhack DAPT55 by Camila Prada"
   ]
  },
  {
   "cell_type": "code",
   "execution_count": 1,
   "id": "1a68540a",
   "metadata": {},
   "outputs": [
    {
     "name": "stdout",
     "output_type": "stream",
     "text": [
      "/Users/camilaprada\n"
     ]
    }
   ],
   "source": [
    "cd"
   ]
  },
  {
   "cell_type": "code",
   "execution_count": 2,
   "id": "63eafae4",
   "metadata": {},
   "outputs": [
    {
     "name": "stdout",
     "output_type": "stream",
     "text": [
      "/Users/camilaprada/Documents/IronHack DAPT55/55_DAPT-master/Projetos/Projeto final Healthcare/Data raw/Master Data/HVBP from 2014\n"
     ]
    }
   ],
   "source": [
    "cd /Users/camilaprada/Documents/IronHack DAPT55/55_DAPT-master/Projetos/Projeto final Healthcare/Data raw/Master Data/HVBP from 2014"
   ]
  },
  {
   "cell_type": "code",
   "execution_count": 3,
   "id": "1e2e8a53",
   "metadata": {},
   "outputs": [
    {
     "name": "stdout",
     "output_type": "stream",
     "text": [
      "HVBP_TPS_10_28_2014.csv  hvbp_tps_11_09_2018.csv  hvbp_tps_2020.csv\r\n",
      "hvbp_tps_10_28_2015.csv  hvbp_tps_11_10_2016.csv  hvbp_tps_2021.csv\r\n",
      "hvbp_tps_11_07_2017.csv  hvbp_tps_12_09_2019.csv  hvpbmaster.csv\r\n"
     ]
    }
   ],
   "source": [
    "ls"
   ]
  },
  {
   "cell_type": "code",
   "execution_count": 4,
   "id": "9304c3f3",
   "metadata": {},
   "outputs": [],
   "source": [
    "import pandas as pd"
   ]
  },
  {
   "cell_type": "code",
   "execution_count": 5,
   "id": "64f62e05",
   "metadata": {},
   "outputs": [],
   "source": [
    "df_hvpb2014 = pd.read_csv('HVBP_TPS_10_28_2014.csv')\n",
    "df_hvpb2015 = pd.read_csv('hvbp_tps_10_28_2015.csv')\n",
    "df_hvpb2016 = pd.read_csv('hvbp_tps_11_10_2016.csv')\n",
    "df_hvpb2017 = pd.read_csv('hvbp_tps_11_07_2017.csv')\n",
    "df_hvpb2018 = pd.read_csv('hvbp_tps_11_09_2018.csv')\n",
    "df_hvpb2019 = pd.read_csv('hvbp_tps_12_09_2019.csv')\n",
    "df_hvpb2020 = pd.read_csv('hvbp_tps_2020.csv')\n",
    "df_hvpb2021 = pd.read_csv('hvbp_tps_2021.csv')\n",
    "                        "
   ]
  },
  {
   "cell_type": "code",
   "execution_count": 6,
   "id": "eadbca95",
   "metadata": {},
   "outputs": [
    {
     "data": {
      "text/plain": [
       "Index(['Provider Number', 'Hospital Name', 'Address', 'City', 'State',\n",
       "       'Zip Code', 'County Name',\n",
       "       'Unweighted Normalized Clinical Process of Care Domain Score',\n",
       "       'Weighted Clinical Process of Care Domain Score',\n",
       "       'Unweighted Patient Experience of Care Domain Score',\n",
       "       'Weighted Patient Experience of Care Domain Score',\n",
       "       'Unweighted Normalized Outcome Domain Score',\n",
       "       'Weighted Outcome Domain Score',\n",
       "       'Unweighted Normalized Efficiency Domain Score',\n",
       "       'Weighted Efficiency Domain Score', 'Total Performance Score'],\n",
       "      dtype='object')"
      ]
     },
     "execution_count": 6,
     "metadata": {},
     "output_type": "execute_result"
    }
   ],
   "source": [
    "df_hvpb2014.columns"
   ]
  },
  {
   "cell_type": "code",
   "execution_count": 7,
   "id": "2c24c01e",
   "metadata": {},
   "outputs": [
    {
     "data": {
      "text/plain": [
       "(3089, 16)"
      ]
     },
     "execution_count": 7,
     "metadata": {},
     "output_type": "execute_result"
    }
   ],
   "source": [
    "df_hvpb2014.shape"
   ]
  },
  {
   "cell_type": "code",
   "execution_count": 8,
   "id": "72ac932b",
   "metadata": {},
   "outputs": [
    {
     "data": {
      "text/plain": [
       "Index(['Provider Number', 'Hospital Name', 'Address', 'City', 'State',\n",
       "       'Zip Code', 'County Name',\n",
       "       'Unweighted Normalized Clinical Process of Care Domain Score',\n",
       "       'Weighted Clinical Process of Care Domain Score',\n",
       "       'Unweighted Patient Experience of Care Domain Score',\n",
       "       'Weighted Patient Experience of Care Domain Score',\n",
       "       'Unweighted Normalized Outcome Domain Score',\n",
       "       'Weighted Outcome Domain Score',\n",
       "       'Unweighted Normalized Efficiency Domain Score',\n",
       "       'Weighted Efficiency Domain Score', 'Total Performance Score'],\n",
       "      dtype='object')"
      ]
     },
     "execution_count": 8,
     "metadata": {},
     "output_type": "execute_result"
    }
   ],
   "source": [
    "df_hvpb2015.columns"
   ]
  },
  {
   "cell_type": "code",
   "execution_count": 9,
   "id": "07bcd990",
   "metadata": {},
   "outputs": [
    {
     "data": {
      "text/plain": [
       "(3041, 16)"
      ]
     },
     "execution_count": 9,
     "metadata": {},
     "output_type": "execute_result"
    }
   ],
   "source": [
    "df_hvpb2015.shape"
   ]
  },
  {
   "cell_type": "code",
   "execution_count": 10,
   "id": "74d24cc2",
   "metadata": {},
   "outputs": [
    {
     "data": {
      "text/plain": [
       "Index(['Provider Number', 'Hospital Name', 'Address', 'City', 'State',\n",
       "       'Zip Code', 'County Name',\n",
       "       'Unweighted Normalized Clinical Care - Process Domain Score',\n",
       "       'Weighted Clinical Care - Process Domain Score',\n",
       "       'Unweighted Normalized Clinical Care - Outcomes Domain Score',\n",
       "       'Weighted Normalized Clinical Care - Outcomes Domain Score',\n",
       "       'Unweighted Patient and Caregiver Centered Experience of Care/Care Coordination Domain Score',\n",
       "       'Weighted Patient and Caregiver Centered Experience of Care/Care Coordination Domain Score',\n",
       "       'Unweighted Normalized Safety Domain Score',\n",
       "       'Weighted Safety Domain Score',\n",
       "       'Unweighted Normalized Efficiency and Cost Reduction Domain Score',\n",
       "       'Weighted Efficiency and Cost Reduction Domain Score',\n",
       "       'Total Performance Score'],\n",
       "      dtype='object')"
      ]
     },
     "execution_count": 10,
     "metadata": {},
     "output_type": "execute_result"
    }
   ],
   "source": [
    "df_hvpb2016.columns"
   ]
  },
  {
   "cell_type": "code",
   "execution_count": 11,
   "id": "1ad25492",
   "metadata": {},
   "outputs": [
    {
     "data": {
      "text/plain": [
       "(2955, 18)"
      ]
     },
     "execution_count": 11,
     "metadata": {},
     "output_type": "execute_result"
    }
   ],
   "source": [
    "df_hvpb2016.shape"
   ]
  },
  {
   "cell_type": "code",
   "execution_count": 12,
   "id": "e5e66e02",
   "metadata": {},
   "outputs": [
    {
     "data": {
      "text/plain": [
       "Index(['Provider Number', 'Hospital Name', 'Address', 'City', 'State',\n",
       "       'Zip Code', 'County Name',\n",
       "       'Unweighted Normalized Clinical Care Domain Score',\n",
       "       'Weighted Normalized Clinical Care Domain Score',\n",
       "       'Unweighted Patient and Caregiver Centered Experience of Care/Care Coordination Domain Score',\n",
       "       'Weighted Patient and Caregiver Centered Experience of Care/Care Coordination Domain Score',\n",
       "       'Unweighted Normalized Safety Domain Score',\n",
       "       'Weighted Safety Domain Score',\n",
       "       'Unweighted Normalized Efficiency and Cost Reduction Domain Score',\n",
       "       'Weighted Efficiency and Cost Reduction Domain Score',\n",
       "       'Total Performance Score'],\n",
       "      dtype='object')"
      ]
     },
     "execution_count": 12,
     "metadata": {},
     "output_type": "execute_result"
    }
   ],
   "source": [
    "df_hvpb2017.columns"
   ]
  },
  {
   "cell_type": "code",
   "execution_count": 13,
   "id": "9192eb45",
   "metadata": {},
   "outputs": [
    {
     "data": {
      "text/plain": [
       "(2808, 16)"
      ]
     },
     "execution_count": 13,
     "metadata": {},
     "output_type": "execute_result"
    }
   ],
   "source": [
    "df_hvpb2017.shape"
   ]
  },
  {
   "cell_type": "code",
   "execution_count": 14,
   "id": "d891852d",
   "metadata": {},
   "outputs": [
    {
     "data": {
      "text/plain": [
       "Index(['Facility ID', 'Facility Name', 'Address', 'City', 'State', 'Zip Code',\n",
       "       'County Name', 'Unweighted Normalized Clinical Care Domain Score',\n",
       "       'Weighted Normalized Clinical Care Domain Score',\n",
       "       'Unweighted Person and Community Engagement Domain Score',\n",
       "       'Weighted Person and Community Engagement Domain Score',\n",
       "       'Unweighted Normalized Safety Domain Score',\n",
       "       'Weighted Safety Domain Score',\n",
       "       'Unweighted Normalized Efficiency and Cost Reduction Domain Score',\n",
       "       'Weighted Efficiency and Cost Reduction Domain Score',\n",
       "       'Total Performance Score'],\n",
       "      dtype='object')"
      ]
     },
     "execution_count": 14,
     "metadata": {},
     "output_type": "execute_result"
    }
   ],
   "source": [
    "df_hvpb2018.columns"
   ]
  },
  {
   "cell_type": "code",
   "execution_count": 15,
   "id": "71345848",
   "metadata": {},
   "outputs": [
    {
     "data": {
      "text/plain": [
       "(2786, 16)"
      ]
     },
     "execution_count": 15,
     "metadata": {},
     "output_type": "execute_result"
    }
   ],
   "source": [
    "df_hvpb2018.shape"
   ]
  },
  {
   "cell_type": "code",
   "execution_count": 16,
   "id": "29dca4fd",
   "metadata": {},
   "outputs": [
    {
     "data": {
      "text/plain": [
       "Index(['Facility ID', 'Facility Name', 'Address', 'City', 'State', 'ZIP Code',\n",
       "       'County Name', 'Unweighted Normalized Clinical Outcomes Domain Score',\n",
       "       'Weighted Normalized Clinical Outcomes Domain Score',\n",
       "       'Unweighted Person and Community Engagement Domain Score',\n",
       "       'Weighted Person and Community Engagement Domain Score',\n",
       "       'Unweighted Normalized Safety Domain Score',\n",
       "       'Weighted Safety Domain Score',\n",
       "       'Unweighted Normalized Efficiency and Cost Reduction Domain Score',\n",
       "       'Weighted Efficiency and Cost Reduction Domain Score',\n",
       "       'Total Performance Score'],\n",
       "      dtype='object')"
      ]
     },
     "execution_count": 16,
     "metadata": {},
     "output_type": "execute_result"
    }
   ],
   "source": [
    "df_hvpb2019.columns"
   ]
  },
  {
   "cell_type": "code",
   "execution_count": 17,
   "id": "f4d7796d",
   "metadata": {},
   "outputs": [
    {
     "data": {
      "text/plain": [
       "(2731, 16)"
      ]
     },
     "execution_count": 17,
     "metadata": {},
     "output_type": "execute_result"
    }
   ],
   "source": [
    "df_hvpb2019.shape"
   ]
  },
  {
   "cell_type": "code",
   "execution_count": 18,
   "id": "7016bf0b",
   "metadata": {},
   "outputs": [
    {
     "data": {
      "text/plain": [
       "Index(['Facility ID', 'Facility Name', 'Address', 'City', 'State', 'ZIP Code',\n",
       "       'County Name', 'Unweighted Normalized Clinical Outcomes Domain Score',\n",
       "       'Weighted Normalized Clinical Outcomes Domain Score',\n",
       "       'Unweighted Person and Community Engagement Domain Score',\n",
       "       'Weighted Person and Community Engagement Domain Score',\n",
       "       'Unweighted Normalized Safety Domain Score',\n",
       "       'Weighted Safety Domain Score',\n",
       "       'Unweighted Normalized Efficiency and Cost Reduction Domain Score',\n",
       "       'Weighted Efficiency and Cost Reduction Domain Score',\n",
       "       'Total Performance Score'],\n",
       "      dtype='object')"
      ]
     },
     "execution_count": 18,
     "metadata": {},
     "output_type": "execute_result"
    }
   ],
   "source": [
    "df_hvpb2020.columns"
   ]
  },
  {
   "cell_type": "code",
   "execution_count": 19,
   "id": "6bbf9be4",
   "metadata": {},
   "outputs": [
    {
     "data": {
      "text/plain": [
       "(2731, 16)"
      ]
     },
     "execution_count": 19,
     "metadata": {},
     "output_type": "execute_result"
    }
   ],
   "source": [
    "df_hvpb2020.shape"
   ]
  },
  {
   "cell_type": "code",
   "execution_count": 20,
   "id": "a8edbdeb",
   "metadata": {},
   "outputs": [
    {
     "data": {
      "text/plain": [
       "Index(['Fiscal Year', 'Facility ID', 'Facility Name', 'Address', 'City',\n",
       "       'State', 'ZIP Code', 'County Name',\n",
       "       'Unweighted Normalized Clinical Outcomes Domain Score',\n",
       "       'Weighted Normalized Clinical Outcomes Domain Score',\n",
       "       'Unweighted Person and Community Engagement Domain Score',\n",
       "       'Weighted Person and Community Engagement Domain Score',\n",
       "       'Unweighted Normalized Safety Domain Score',\n",
       "       'Weighted Safety Domain Score',\n",
       "       'Unweighted Normalized Efficiency and Cost Reduction Domain Score',\n",
       "       'Weighted Efficiency and Cost Reduction Domain Score',\n",
       "       'Total Performance Score'],\n",
       "      dtype='object')"
      ]
     },
     "execution_count": 20,
     "metadata": {},
     "output_type": "execute_result"
    }
   ],
   "source": [
    "df_hvpb2021.columns"
   ]
  },
  {
   "cell_type": "code",
   "execution_count": 21,
   "id": "a93a4fbc",
   "metadata": {},
   "outputs": [
    {
     "data": {
      "text/plain": [
       "(2676, 17)"
      ]
     },
     "execution_count": 21,
     "metadata": {},
     "output_type": "execute_result"
    }
   ],
   "source": [
    "df_hvpb2021.shape"
   ]
  },
  {
   "cell_type": "code",
   "execution_count": 22,
   "id": "4f680ce8",
   "metadata": {},
   "outputs": [
    {
     "name": "stdout",
     "output_type": "stream",
     "text": [
      "<class 'pandas.core.frame.DataFrame'>\n",
      "RangeIndex: 2676 entries, 0 to 2675\n",
      "Data columns (total 17 columns):\n",
      " #   Column                                                            Non-Null Count  Dtype  \n",
      "---  ------                                                            --------------  -----  \n",
      " 0   Fiscal Year                                                       2676 non-null   int64  \n",
      " 1   Facility ID                                                       2676 non-null   int64  \n",
      " 2   Facility Name                                                     2676 non-null   object \n",
      " 3   Address                                                           2676 non-null   object \n",
      " 4   City                                                              2676 non-null   object \n",
      " 5   State                                                             2676 non-null   object \n",
      " 6   ZIP Code                                                          2676 non-null   int64  \n",
      " 7   County Name                                                       2676 non-null   object \n",
      " 8   Unweighted Normalized Clinical Outcomes Domain Score              2676 non-null   object \n",
      " 9   Weighted Normalized Clinical Outcomes Domain Score                2676 non-null   object \n",
      " 10  Unweighted Person and Community Engagement Domain Score           2676 non-null   object \n",
      " 11  Weighted Person and Community Engagement Domain Score             2676 non-null   object \n",
      " 12  Unweighted Normalized Safety Domain Score                         2676 non-null   object \n",
      " 13  Weighted Safety Domain Score                                      2676 non-null   object \n",
      " 14  Unweighted Normalized Efficiency and Cost Reduction Domain Score  2676 non-null   object \n",
      " 15  Weighted Efficiency and Cost Reduction Domain Score               2676 non-null   object \n",
      " 16  Total Performance Score                                           2676 non-null   float64\n",
      "dtypes: float64(1), int64(3), object(13)\n",
      "memory usage: 355.5+ KB\n"
     ]
    }
   ],
   "source": [
    "df_hvpb2021.info()"
   ]
  },
  {
   "cell_type": "code",
   "execution_count": 23,
   "id": "dd826fd3",
   "metadata": {},
   "outputs": [],
   "source": [
    "df_hvpb2014 = df_hvpb2014.rename(columns={'Provider Number':'Facility ID'})\n",
    "df_hvpb2015 = df_hvpb2015.rename(columns={'Provider Number':'Facility ID'})\n",
    "df_hvpb2016 = df_hvpb2016.rename(columns={'Provider Number':'Facility ID'})\n",
    "df_hvpb2017 = df_hvpb2017.rename(columns={'Provider Number':'Facility ID'})"
   ]
  },
  {
   "cell_type": "code",
   "execution_count": 24,
   "id": "db3ee73f",
   "metadata": {},
   "outputs": [],
   "source": [
    "df_hvpb2014 = df_hvpb2014.rename(columns={'Total Performance Score':'Total Performance Score 2014'})\n",
    "df_hvpb2015 = df_hvpb2015.rename(columns={'Total Performance Score':'Total Performance Score 2015'})\n",
    "df_hvpb2016 = df_hvpb2016.rename(columns={'Total Performance Score':'Total Performance Score 2016'})\n",
    "df_hvpb2017 = df_hvpb2017.rename(columns={'Total Performance Score':'Total Performance Score 2017'})\n",
    "df_hvpb2018 = df_hvpb2018.rename(columns={'Total Performance Score':'Total Performance Score 2018'})\n",
    "df_hvpb2019 = df_hvpb2019.rename(columns={'Total Performance Score':'Total Performance Score 2019'})\n",
    "df_hvpb2020 = df_hvpb2020.rename(columns={'Total Performance Score':'Total Performance Score 2020'})\n",
    "df_hvpb2021 = df_hvpb2021.rename(columns={'Total Performance Score':'Total Performance Score 2021'})"
   ]
  },
  {
   "cell_type": "code",
   "execution_count": 25,
   "id": "dc13cdd1",
   "metadata": {},
   "outputs": [
    {
     "name": "stdout",
     "output_type": "stream",
     "text": [
      "<class 'pandas.core.frame.DataFrame'>\n",
      "RangeIndex: 2676 entries, 0 to 2675\n",
      "Data columns (total 17 columns):\n",
      " #   Column                                                            Non-Null Count  Dtype  \n",
      "---  ------                                                            --------------  -----  \n",
      " 0   Fiscal Year                                                       2676 non-null   int64  \n",
      " 1   Facility ID                                                       2676 non-null   int64  \n",
      " 2   Facility Name                                                     2676 non-null   object \n",
      " 3   Address                                                           2676 non-null   object \n",
      " 4   City                                                              2676 non-null   object \n",
      " 5   State                                                             2676 non-null   object \n",
      " 6   ZIP Code                                                          2676 non-null   int64  \n",
      " 7   County Name                                                       2676 non-null   object \n",
      " 8   Unweighted Normalized Clinical Outcomes Domain Score              2676 non-null   object \n",
      " 9   Weighted Normalized Clinical Outcomes Domain Score                2676 non-null   object \n",
      " 10  Unweighted Person and Community Engagement Domain Score           2676 non-null   object \n",
      " 11  Weighted Person and Community Engagement Domain Score             2676 non-null   object \n",
      " 12  Unweighted Normalized Safety Domain Score                         2676 non-null   object \n",
      " 13  Weighted Safety Domain Score                                      2676 non-null   object \n",
      " 14  Unweighted Normalized Efficiency and Cost Reduction Domain Score  2676 non-null   object \n",
      " 15  Weighted Efficiency and Cost Reduction Domain Score               2676 non-null   object \n",
      " 16  Total Performance Score 2021                                      2676 non-null   float64\n",
      "dtypes: float64(1), int64(3), object(13)\n",
      "memory usage: 355.5+ KB\n"
     ]
    }
   ],
   "source": [
    "df_hvpb2021.info()"
   ]
  },
  {
   "cell_type": "code",
   "execution_count": 26,
   "id": "7e08de5b",
   "metadata": {},
   "outputs": [
    {
     "data": {
      "text/html": [
       "<div>\n",
       "<style scoped>\n",
       "    .dataframe tbody tr th:only-of-type {\n",
       "        vertical-align: middle;\n",
       "    }\n",
       "\n",
       "    .dataframe tbody tr th {\n",
       "        vertical-align: top;\n",
       "    }\n",
       "\n",
       "    .dataframe thead th {\n",
       "        text-align: right;\n",
       "    }\n",
       "</style>\n",
       "<table border=\"1\" class=\"dataframe\">\n",
       "  <thead>\n",
       "    <tr style=\"text-align: right;\">\n",
       "      <th></th>\n",
       "      <th>Fiscal Year</th>\n",
       "      <th>Facility ID</th>\n",
       "      <th>ZIP Code</th>\n",
       "      <th>Total Performance Score 2021</th>\n",
       "    </tr>\n",
       "  </thead>\n",
       "  <tbody>\n",
       "    <tr>\n",
       "      <th>count</th>\n",
       "      <td>2676.0</td>\n",
       "      <td>2676.000000</td>\n",
       "      <td>2676.000000</td>\n",
       "      <td>2676.000000</td>\n",
       "    </tr>\n",
       "    <tr>\n",
       "      <th>mean</th>\n",
       "      <td>2021.0</td>\n",
       "      <td>257057.961510</td>\n",
       "      <td>51525.653214</td>\n",
       "      <td>33.905970</td>\n",
       "    </tr>\n",
       "    <tr>\n",
       "      <th>std</th>\n",
       "      <td>0.0</td>\n",
       "      <td>159007.269926</td>\n",
       "      <td>28110.946167</td>\n",
       "      <td>11.617269</td>\n",
       "    </tr>\n",
       "    <tr>\n",
       "      <th>min</th>\n",
       "      <td>2021.0</td>\n",
       "      <td>10001.000000</td>\n",
       "      <td>1040.000000</td>\n",
       "      <td>6.000000</td>\n",
       "    </tr>\n",
       "    <tr>\n",
       "      <th>25%</th>\n",
       "      <td>2021.0</td>\n",
       "      <td>110023.750000</td>\n",
       "      <td>30039.000000</td>\n",
       "      <td>25.500000</td>\n",
       "    </tr>\n",
       "    <tr>\n",
       "      <th>50%</th>\n",
       "      <td>2021.0</td>\n",
       "      <td>250077.500000</td>\n",
       "      <td>48196.500000</td>\n",
       "      <td>32.500000</td>\n",
       "    </tr>\n",
       "    <tr>\n",
       "      <th>75%</th>\n",
       "      <td>2021.0</td>\n",
       "      <td>390046.500000</td>\n",
       "      <td>76104.000000</td>\n",
       "      <td>40.406250</td>\n",
       "    </tr>\n",
       "    <tr>\n",
       "      <th>max</th>\n",
       "      <td>2021.0</td>\n",
       "      <td>670122.000000</td>\n",
       "      <td>99801.000000</td>\n",
       "      <td>92.666667</td>\n",
       "    </tr>\n",
       "  </tbody>\n",
       "</table>\n",
       "</div>"
      ],
      "text/plain": [
       "       Fiscal Year    Facility ID      ZIP Code  Total Performance Score 2021\n",
       "count       2676.0    2676.000000   2676.000000                   2676.000000\n",
       "mean        2021.0  257057.961510  51525.653214                     33.905970\n",
       "std            0.0  159007.269926  28110.946167                     11.617269\n",
       "min         2021.0   10001.000000   1040.000000                      6.000000\n",
       "25%         2021.0  110023.750000  30039.000000                     25.500000\n",
       "50%         2021.0  250077.500000  48196.500000                     32.500000\n",
       "75%         2021.0  390046.500000  76104.000000                     40.406250\n",
       "max         2021.0  670122.000000  99801.000000                     92.666667"
      ]
     },
     "execution_count": 26,
     "metadata": {},
     "output_type": "execute_result"
    }
   ],
   "source": [
    "df_hvpb2021.describe()"
   ]
  },
  {
   "cell_type": "code",
   "execution_count": 27,
   "id": "cbab10f8",
   "metadata": {},
   "outputs": [],
   "source": [
    "df_hvpbmaster = df_hvpb2021"
   ]
  },
  {
   "cell_type": "code",
   "execution_count": 28,
   "id": "2e681da5",
   "metadata": {},
   "outputs": [
    {
     "data": {
      "text/plain": [
       "(2676, 17)"
      ]
     },
     "execution_count": 28,
     "metadata": {},
     "output_type": "execute_result"
    }
   ],
   "source": [
    "df_hvpbmaster.shape"
   ]
  },
  {
   "cell_type": "code",
   "execution_count": 29,
   "id": "52ec38bf",
   "metadata": {},
   "outputs": [],
   "source": [
    "df_hvpbmaster = pd.merge(left=df_hvpbmaster, right=df_hvpb2020, how='left', left_on='Facility ID', right_on='Facility ID')"
   ]
  },
  {
   "cell_type": "code",
   "execution_count": 30,
   "id": "df643f5f",
   "metadata": {},
   "outputs": [
    {
     "name": "stdout",
     "output_type": "stream",
     "text": [
      "<class 'pandas.core.frame.DataFrame'>\n",
      "Int64Index: 2676 entries, 0 to 2675\n",
      "Data columns (total 32 columns):\n",
      " #   Column                                                              Non-Null Count  Dtype  \n",
      "---  ------                                                              --------------  -----  \n",
      " 0   Fiscal Year                                                         2676 non-null   int64  \n",
      " 1   Facility ID                                                         2676 non-null   int64  \n",
      " 2   Facility Name_x                                                     2676 non-null   object \n",
      " 3   Address_x                                                           2676 non-null   object \n",
      " 4   City_x                                                              2676 non-null   object \n",
      " 5   State_x                                                             2676 non-null   object \n",
      " 6   ZIP Code_x                                                          2676 non-null   int64  \n",
      " 7   County Name_x                                                       2676 non-null   object \n",
      " 8   Unweighted Normalized Clinical Outcomes Domain Score_x              2676 non-null   object \n",
      " 9   Weighted Normalized Clinical Outcomes Domain Score_x                2676 non-null   object \n",
      " 10  Unweighted Person and Community Engagement Domain Score_x           2676 non-null   object \n",
      " 11  Weighted Person and Community Engagement Domain Score_x             2676 non-null   object \n",
      " 12  Unweighted Normalized Safety Domain Score_x                         2676 non-null   object \n",
      " 13  Weighted Safety Domain Score_x                                      2676 non-null   object \n",
      " 14  Unweighted Normalized Efficiency and Cost Reduction Domain Score_x  2676 non-null   object \n",
      " 15  Weighted Efficiency and Cost Reduction Domain Score_x               2676 non-null   object \n",
      " 16  Total Performance Score 2021                                        2676 non-null   float64\n",
      " 17  Facility Name_y                                                     2632 non-null   object \n",
      " 18  Address_y                                                           2632 non-null   object \n",
      " 19  City_y                                                              2632 non-null   object \n",
      " 20  State_y                                                             2632 non-null   object \n",
      " 21  ZIP Code_y                                                          2632 non-null   float64\n",
      " 22  County Name_y                                                       2632 non-null   object \n",
      " 23  Unweighted Normalized Clinical Outcomes Domain Score_y              2632 non-null   object \n",
      " 24  Weighted Normalized Clinical Outcomes Domain Score_y                2632 non-null   object \n",
      " 25  Unweighted Person and Community Engagement Domain Score_y           2632 non-null   object \n",
      " 26  Weighted Person and Community Engagement Domain Score_y             2632 non-null   object \n",
      " 27  Unweighted Normalized Safety Domain Score_y                         2632 non-null   object \n",
      " 28  Weighted Safety Domain Score_y                                      2632 non-null   object \n",
      " 29  Unweighted Normalized Efficiency and Cost Reduction Domain Score_y  2632 non-null   float64\n",
      " 30  Weighted Efficiency and Cost Reduction Domain Score_y               2632 non-null   float64\n",
      " 31  Total Performance Score 2020                                        2632 non-null   object \n",
      "dtypes: float64(4), int64(3), object(25)\n",
      "memory usage: 689.9+ KB\n"
     ]
    }
   ],
   "source": [
    "df_hvpbmaster.info()"
   ]
  },
  {
   "cell_type": "code",
   "execution_count": 31,
   "id": "d4170d22",
   "metadata": {},
   "outputs": [],
   "source": [
    "df_hvpbmaster = pd.merge(left=df_hvpbmaster, right=df_hvpb2019, how='left', left_on='Facility ID', right_on='Facility ID')"
   ]
  },
  {
   "cell_type": "code",
   "execution_count": 32,
   "id": "a109b919",
   "metadata": {},
   "outputs": [
    {
     "name": "stderr",
     "output_type": "stream",
     "text": [
      "/var/folders/_y/zq95zg6j097f8p7bn78chggw0000gp/T/ipykernel_3220/1056234429.py:1: FutureWarning: Passing 'suffixes' which cause duplicate columns {'Address_x', 'Weighted Safety Domain Score_x', 'State_x', 'County Name_x', 'Unweighted Normalized Safety Domain Score_x', 'City_x', 'Facility Name_x', 'Weighted Efficiency and Cost Reduction Domain Score_x', 'Unweighted Normalized Efficiency and Cost Reduction Domain Score_x', 'Weighted Person and Community Engagement Domain Score_x', 'Unweighted Person and Community Engagement Domain Score_x'} in the result is deprecated and will raise a MergeError in a future version.\n",
      "  df_hvpbmaster = pd.merge(left=df_hvpbmaster, right=df_hvpb2018, how='left', left_on='Facility ID', right_on='Facility ID')\n"
     ]
    }
   ],
   "source": [
    "df_hvpbmaster = pd.merge(left=df_hvpbmaster, right=df_hvpb2018, how='left', left_on='Facility ID', right_on='Facility ID')"
   ]
  },
  {
   "cell_type": "code",
   "execution_count": 33,
   "id": "03cba358",
   "metadata": {},
   "outputs": [],
   "source": [
    "df_hvpbmaster = pd.merge(left=df_hvpbmaster, right=df_hvpb2017, how='left', left_on='Facility ID', right_on='Facility ID')"
   ]
  },
  {
   "cell_type": "code",
   "execution_count": 34,
   "id": "5e6d627c",
   "metadata": {},
   "outputs": [
    {
     "name": "stderr",
     "output_type": "stream",
     "text": [
      "/var/folders/_y/zq95zg6j097f8p7bn78chggw0000gp/T/ipykernel_3220/3103377392.py:1: FutureWarning: Passing 'suffixes' which cause duplicate columns {'Address_x', 'Weighted Safety Domain Score_x', 'State_x', 'County Name_x', 'Unweighted Normalized Safety Domain Score_x', 'City_x', 'Weighted Efficiency and Cost Reduction Domain Score_x', 'Unweighted Normalized Efficiency and Cost Reduction Domain Score_x'} in the result is deprecated and will raise a MergeError in a future version.\n",
      "  df_hvpbmaster = pd.merge(left=df_hvpbmaster, right=df_hvpb2016, how='left', left_on='Facility ID', right_on='Facility ID')\n"
     ]
    }
   ],
   "source": [
    "df_hvpbmaster = pd.merge(left=df_hvpbmaster, right=df_hvpb2016, how='left', left_on='Facility ID', right_on='Facility ID')"
   ]
  },
  {
   "cell_type": "code",
   "execution_count": 35,
   "id": "8f23218c",
   "metadata": {},
   "outputs": [
    {
     "name": "stderr",
     "output_type": "stream",
     "text": [
      "/var/folders/_y/zq95zg6j097f8p7bn78chggw0000gp/T/ipykernel_3220/2083861069.py:1: FutureWarning: Passing 'suffixes' which cause duplicate columns {'Zip Code_x'} in the result is deprecated and will raise a MergeError in a future version.\n",
      "  df_hvpbmaster = pd.merge(left=df_hvpbmaster, right=df_hvpb2015, how='left', left_on='Facility ID', right_on='Facility ID')\n"
     ]
    }
   ],
   "source": [
    "df_hvpbmaster = pd.merge(left=df_hvpbmaster, right=df_hvpb2015, how='left', left_on='Facility ID', right_on='Facility ID')"
   ]
  },
  {
   "cell_type": "code",
   "execution_count": 36,
   "id": "23d9be02",
   "metadata": {},
   "outputs": [
    {
     "name": "stderr",
     "output_type": "stream",
     "text": [
      "/var/folders/_y/zq95zg6j097f8p7bn78chggw0000gp/T/ipykernel_3220/2673453207.py:1: FutureWarning: Passing 'suffixes' which cause duplicate columns {'Address_x', 'State_x', 'County Name_x', 'Hospital Name_x', 'City_x'} in the result is deprecated and will raise a MergeError in a future version.\n",
      "  df_hvpbmaster = pd.merge(left=df_hvpbmaster, right=df_hvpb2014, how='left', left_on='Facility ID', right_on='Facility ID')\n"
     ]
    }
   ],
   "source": [
    "df_hvpbmaster = pd.merge(left=df_hvpbmaster, right=df_hvpb2014, how='left', left_on='Facility ID', right_on='Facility ID')"
   ]
  },
  {
   "cell_type": "code",
   "execution_count": 37,
   "id": "a12f1829",
   "metadata": {},
   "outputs": [
    {
     "data": {
      "text/plain": [
       "Index(['Fiscal Year', 'Facility ID', 'Facility Name_x', 'Address_x', 'City_x',\n",
       "       'State_x', 'ZIP Code_x', 'County Name_x',\n",
       "       'Unweighted Normalized Clinical Outcomes Domain Score_x',\n",
       "       'Weighted Normalized Clinical Outcomes Domain Score_x',\n",
       "       ...\n",
       "       'County Name_y',\n",
       "       'Unweighted Normalized Clinical Process of Care Domain Score_y',\n",
       "       'Weighted Clinical Process of Care Domain Score_y',\n",
       "       'Unweighted Patient Experience of Care Domain Score_y',\n",
       "       'Weighted Patient Experience of Care Domain Score_y',\n",
       "       'Unweighted Normalized Outcome Domain Score_y',\n",
       "       'Weighted Outcome Domain Score_y',\n",
       "       'Unweighted Normalized Efficiency Domain Score_y',\n",
       "       'Weighted Efficiency Domain Score_y', 'Total Performance Score 2014'],\n",
       "      dtype='object', length=124)"
      ]
     },
     "execution_count": 37,
     "metadata": {},
     "output_type": "execute_result"
    }
   ],
   "source": [
    "df_hvpbmaster.columns"
   ]
  },
  {
   "cell_type": "code",
   "execution_count": 40,
   "id": "e35a98fc",
   "metadata": {},
   "outputs": [],
   "source": [
    "df_hvpbmaster = df_hvpbmaster[['Facility ID', 'Facility Name_x', 'City_x', 'State_x', 'ZIP Code_x', 'Total Performance Score 2021', 'Total Performance Score 2020', 'Total Performance Score 2019', 'Total Performance Score 2018', 'Total Performance Score 2017', 'Total Performance Score 2016', 'Total Performance Score 2015', 'Total Performance Score 2014']]"
   ]
  },
  {
   "cell_type": "code",
   "execution_count": 41,
   "id": "09d05f16",
   "metadata": {
    "scrolled": true
   },
   "outputs": [
    {
     "name": "stdout",
     "output_type": "stream",
     "text": [
      "<class 'pandas.core.frame.DataFrame'>\n",
      "Int64Index: 2676 entries, 0 to 2675\n",
      "Data columns (total 20 columns):\n",
      " #   Column                        Non-Null Count  Dtype  \n",
      "---  ------                        --------------  -----  \n",
      " 0   Facility ID                   2676 non-null   int64  \n",
      " 1   Facility Name_x               2676 non-null   object \n",
      " 2   Facility Name_x               2632 non-null   object \n",
      " 3   City_x                        2676 non-null   object \n",
      " 4   City_x                        2632 non-null   object \n",
      " 5   City_x                        2608 non-null   object \n",
      " 6   City_x                        2592 non-null   object \n",
      " 7   State_x                       2676 non-null   object \n",
      " 8   State_x                       2632 non-null   object \n",
      " 9   State_x                       2608 non-null   object \n",
      " 10  State_x                       2592 non-null   object \n",
      " 11  ZIP Code_x                    2676 non-null   int64  \n",
      " 12  Total Performance Score 2021  2676 non-null   float64\n",
      " 13  Total Performance Score 2020  2632 non-null   object \n",
      " 14  Total Performance Score 2019  2632 non-null   object \n",
      " 15  Total Performance Score 2018  2628 non-null   float64\n",
      " 16  Total Performance Score 2017  2608 non-null   object \n",
      " 17  Total Performance Score 2016  2609 non-null   float64\n",
      " 18  Total Performance Score 2015  2592 non-null   float64\n",
      " 19  Total Performance Score 2014  2621 non-null   float64\n",
      "dtypes: float64(5), int64(2), object(13)\n",
      "memory usage: 439.0+ KB\n"
     ]
    }
   ],
   "source": [
    "df_hvpbmaster.info()"
   ]
  },
  {
   "cell_type": "code",
   "execution_count": 42,
   "id": "dde0af3e",
   "metadata": {},
   "outputs": [
    {
     "data": {
      "text/html": [
       "<div>\n",
       "<style scoped>\n",
       "    .dataframe tbody tr th:only-of-type {\n",
       "        vertical-align: middle;\n",
       "    }\n",
       "\n",
       "    .dataframe tbody tr th {\n",
       "        vertical-align: top;\n",
       "    }\n",
       "\n",
       "    .dataframe thead th {\n",
       "        text-align: right;\n",
       "    }\n",
       "</style>\n",
       "<table border=\"1\" class=\"dataframe\">\n",
       "  <thead>\n",
       "    <tr style=\"text-align: right;\">\n",
       "      <th></th>\n",
       "      <th>Facility ID</th>\n",
       "      <th>Facility Name_x</th>\n",
       "      <th>Facility Name_x</th>\n",
       "      <th>City_x</th>\n",
       "      <th>City_x</th>\n",
       "      <th>City_x</th>\n",
       "      <th>City_x</th>\n",
       "      <th>State_x</th>\n",
       "      <th>State_x</th>\n",
       "      <th>State_x</th>\n",
       "      <th>State_x</th>\n",
       "      <th>ZIP Code_x</th>\n",
       "      <th>Total Performance Score 2021</th>\n",
       "      <th>Total Performance Score 2020</th>\n",
       "      <th>Total Performance Score 2019</th>\n",
       "      <th>Total Performance Score 2018</th>\n",
       "      <th>Total Performance Score 2017</th>\n",
       "      <th>Total Performance Score 2016</th>\n",
       "      <th>Total Performance Score 2015</th>\n",
       "      <th>Total Performance Score 2014</th>\n",
       "    </tr>\n",
       "  </thead>\n",
       "  <tbody>\n",
       "    <tr>\n",
       "      <th>0</th>\n",
       "      <td>10001</td>\n",
       "      <td>SOUTHEAST ALABAMA MEDICAL CENTER</td>\n",
       "      <td>SOUTHEAST ALABAMA MEDICAL CENTER</td>\n",
       "      <td>DOTHAN</td>\n",
       "      <td>DOTHAN</td>\n",
       "      <td>DOTHAN</td>\n",
       "      <td>Dothan</td>\n",
       "      <td>AL</td>\n",
       "      <td>AL</td>\n",
       "      <td>AL</td>\n",
       "      <td>AL</td>\n",
       "      <td>36301</td>\n",
       "      <td>36.250000</td>\n",
       "      <td>23.416666666667</td>\n",
       "      <td>23.416666666667</td>\n",
       "      <td>22.375000</td>\n",
       "      <td>35.547619047619</td>\n",
       "      <td>31.333333</td>\n",
       "      <td>28.107143</td>\n",
       "      <td>36.136364</td>\n",
       "    </tr>\n",
       "    <tr>\n",
       "      <th>1</th>\n",
       "      <td>10005</td>\n",
       "      <td>MARSHALL MEDICAL CENTERS SOUTH CAMPUS</td>\n",
       "      <td>MARSHALL MEDICAL CENTERS SOUTH CAMPUS</td>\n",
       "      <td>BOAZ</td>\n",
       "      <td>BOAZ</td>\n",
       "      <td>BOAZ</td>\n",
       "      <td>Boaz</td>\n",
       "      <td>AL</td>\n",
       "      <td>AL</td>\n",
       "      <td>AL</td>\n",
       "      <td>AL</td>\n",
       "      <td>35957</td>\n",
       "      <td>28.250000</td>\n",
       "      <td>31.250000000000</td>\n",
       "      <td>31.250000000000</td>\n",
       "      <td>22.791667</td>\n",
       "      <td>33.523809523810</td>\n",
       "      <td>28.750000</td>\n",
       "      <td>39.607143</td>\n",
       "      <td>59.744444</td>\n",
       "    </tr>\n",
       "    <tr>\n",
       "      <th>2</th>\n",
       "      <td>10006</td>\n",
       "      <td>NORTH ALABAMA MEDICAL CENTER</td>\n",
       "      <td>NORTH ALABAMA MEDICAL CENTER</td>\n",
       "      <td>FLORENCE</td>\n",
       "      <td>FLORENCE</td>\n",
       "      <td>FLORENCE</td>\n",
       "      <td>Florence</td>\n",
       "      <td>AL</td>\n",
       "      <td>AL</td>\n",
       "      <td>AL</td>\n",
       "      <td>AL</td>\n",
       "      <td>35630</td>\n",
       "      <td>25.750000</td>\n",
       "      <td>27.083333333333</td>\n",
       "      <td>27.083333333333</td>\n",
       "      <td>20.625000</td>\n",
       "      <td>22.702380952381</td>\n",
       "      <td>27.166667</td>\n",
       "      <td>38.250000</td>\n",
       "      <td>29.463636</td>\n",
       "    </tr>\n",
       "    <tr>\n",
       "      <th>3</th>\n",
       "      <td>10007</td>\n",
       "      <td>MIZELL MEMORIAL HOSPITAL</td>\n",
       "      <td>MIZELL MEMORIAL HOSPITAL</td>\n",
       "      <td>OPP</td>\n",
       "      <td>OPP</td>\n",
       "      <td>OPP</td>\n",
       "      <td>Opp</td>\n",
       "      <td>AL</td>\n",
       "      <td>AL</td>\n",
       "      <td>AL</td>\n",
       "      <td>AL</td>\n",
       "      <td>36467</td>\n",
       "      <td>19.555556</td>\n",
       "      <td>18.111111111111</td>\n",
       "      <td>18.111111111111</td>\n",
       "      <td>21.444444</td>\n",
       "      <td>27.555555555556</td>\n",
       "      <td>29.687500</td>\n",
       "      <td>32.428571</td>\n",
       "      <td>45.433333</td>\n",
       "    </tr>\n",
       "    <tr>\n",
       "      <th>4</th>\n",
       "      <td>10011</td>\n",
       "      <td>ST VINCENT'S EAST</td>\n",
       "      <td>ST VINCENT'S EAST</td>\n",
       "      <td>BIRMINGHAM</td>\n",
       "      <td>BIRMINGHAM</td>\n",
       "      <td>BIRMINGHAM</td>\n",
       "      <td>Birmingham</td>\n",
       "      <td>AL</td>\n",
       "      <td>AL</td>\n",
       "      <td>AL</td>\n",
       "      <td>AL</td>\n",
       "      <td>35235</td>\n",
       "      <td>21.500000</td>\n",
       "      <td>25.875000000000</td>\n",
       "      <td>25.875000000000</td>\n",
       "      <td>26.458333</td>\n",
       "      <td>28.630952380952</td>\n",
       "      <td>27.833333</td>\n",
       "      <td>26.964286</td>\n",
       "      <td>37.354545</td>\n",
       "    </tr>\n",
       "  </tbody>\n",
       "</table>\n",
       "</div>"
      ],
      "text/plain": [
       "   Facility ID                        Facility Name_x  \\\n",
       "0        10001       SOUTHEAST ALABAMA MEDICAL CENTER   \n",
       "1        10005  MARSHALL MEDICAL CENTERS SOUTH CAMPUS   \n",
       "2        10006           NORTH ALABAMA MEDICAL CENTER   \n",
       "3        10007               MIZELL MEMORIAL HOSPITAL   \n",
       "4        10011                      ST VINCENT'S EAST   \n",
       "\n",
       "                         Facility Name_x      City_x      City_x      City_x  \\\n",
       "0       SOUTHEAST ALABAMA MEDICAL CENTER      DOTHAN      DOTHAN      DOTHAN   \n",
       "1  MARSHALL MEDICAL CENTERS SOUTH CAMPUS        BOAZ        BOAZ        BOAZ   \n",
       "2           NORTH ALABAMA MEDICAL CENTER    FLORENCE    FLORENCE    FLORENCE   \n",
       "3               MIZELL MEMORIAL HOSPITAL         OPP         OPP         OPP   \n",
       "4                      ST VINCENT'S EAST  BIRMINGHAM  BIRMINGHAM  BIRMINGHAM   \n",
       "\n",
       "       City_x State_x State_x State_x State_x  ZIP Code_x  \\\n",
       "0      Dothan      AL      AL      AL      AL       36301   \n",
       "1        Boaz      AL      AL      AL      AL       35957   \n",
       "2    Florence      AL      AL      AL      AL       35630   \n",
       "3         Opp      AL      AL      AL      AL       36467   \n",
       "4  Birmingham      AL      AL      AL      AL       35235   \n",
       "\n",
       "   Total Performance Score 2021 Total Performance Score 2020  \\\n",
       "0                     36.250000              23.416666666667   \n",
       "1                     28.250000              31.250000000000   \n",
       "2                     25.750000              27.083333333333   \n",
       "3                     19.555556              18.111111111111   \n",
       "4                     21.500000              25.875000000000   \n",
       "\n",
       "  Total Performance Score 2019  Total Performance Score 2018  \\\n",
       "0              23.416666666667                     22.375000   \n",
       "1              31.250000000000                     22.791667   \n",
       "2              27.083333333333                     20.625000   \n",
       "3              18.111111111111                     21.444444   \n",
       "4              25.875000000000                     26.458333   \n",
       "\n",
       "  Total Performance Score 2017  Total Performance Score 2016  \\\n",
       "0              35.547619047619                     31.333333   \n",
       "1              33.523809523810                     28.750000   \n",
       "2              22.702380952381                     27.166667   \n",
       "3              27.555555555556                     29.687500   \n",
       "4              28.630952380952                     27.833333   \n",
       "\n",
       "   Total Performance Score 2015  Total Performance Score 2014  \n",
       "0                     28.107143                     36.136364  \n",
       "1                     39.607143                     59.744444  \n",
       "2                     38.250000                     29.463636  \n",
       "3                     32.428571                     45.433333  \n",
       "4                     26.964286                     37.354545  "
      ]
     },
     "execution_count": 42,
     "metadata": {},
     "output_type": "execute_result"
    }
   ],
   "source": [
    "df_hvpbmaster.head()"
   ]
  },
  {
   "cell_type": "code",
   "execution_count": null,
   "id": "e673ea02",
   "metadata": {},
   "outputs": [],
   "source": [
    "df_hvpbmaster.shape"
   ]
  },
  {
   "cell_type": "code",
   "execution_count": 43,
   "id": "2724e8bd",
   "metadata": {},
   "outputs": [],
   "source": [
    "df_hvpbmaster.to_excel(r'/Users/camilaprada/Documents/IronHack DAPT55/55_DAPT-master/Projetos/Projeto final Healthcare/Data raw/Master Data/HVBP from 2014/hvpbmaster.xlsx', index = False, header = True)\n"
   ]
  },
  {
   "cell_type": "code",
   "execution_count": null,
   "id": "51cce9e5",
   "metadata": {},
   "outputs": [],
   "source": []
  },
  {
   "cell_type": "code",
   "execution_count": null,
   "id": "24fd9431",
   "metadata": {},
   "outputs": [],
   "source": []
  }
 ],
 "metadata": {
  "kernelspec": {
   "display_name": "Python 3 (ipykernel)",
   "language": "python",
   "name": "python3"
  },
  "language_info": {
   "codemirror_mode": {
    "name": "ipython",
    "version": 3
   },
   "file_extension": ".py",
   "mimetype": "text/x-python",
   "name": "python",
   "nbconvert_exporter": "python",
   "pygments_lexer": "ipython3",
   "version": "3.9.5"
  }
 },
 "nbformat": 4,
 "nbformat_minor": 5
}

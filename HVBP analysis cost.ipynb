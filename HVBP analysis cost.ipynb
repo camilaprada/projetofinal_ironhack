{
 "cells": [
  {
   "cell_type": "markdown",
   "id": "27e2dc33",
   "metadata": {},
   "source": [
    "# HVBP analysis"
   ]
  },
  {
   "cell_type": "markdown",
   "id": "9c2437ea",
   "metadata": {},
   "source": [
    "Final project Ironhack DAPT55 by Camila Prada"
   ]
  },
  {
   "cell_type": "code",
   "execution_count": 1,
   "id": "1a68540a",
   "metadata": {},
   "outputs": [
    {
     "name": "stdout",
     "output_type": "stream",
     "text": [
      "/Users/camilaprada\n"
     ]
    }
   ],
   "source": [
    "cd"
   ]
  },
  {
   "cell_type": "code",
   "execution_count": 2,
   "id": "63eafae4",
   "metadata": {},
   "outputs": [
    {
     "name": "stdout",
     "output_type": "stream",
     "text": [
      "/Users/camilaprada/Documents/IronHack DAPT55/55_DAPT-master/Projetos/Projeto final Healthcare/Data raw/Master Data/Payment and value from 2015\n"
     ]
    }
   ],
   "source": [
    "cd /Users/camilaprada/Documents/IronHack DAPT55/55_DAPT-master/Projetos/Projeto final Healthcare/Data raw/Master Data/Payment and value from 2015"
   ]
  },
  {
   "cell_type": "code",
   "execution_count": 3,
   "id": "1e2e8a53",
   "metadata": {},
   "outputs": [
    {
     "name": "stdout",
     "output_type": "stream",
     "text": [
      "Payment and Value of Care - Hospital 2015.csv\r\n",
      "Payment and Value of Care - Hospital 2016.csv\r\n",
      "Payment and Value of Care - Hospital 2017.csv\r\n",
      "Payment and Value of Care - Hospital 2018.csv\r\n",
      "Payment and Value of Care - Hospital 2019.csv\r\n",
      "Payment_and_Value_of_Care-Hospital 2021.csv\r\n"
     ]
    }
   ],
   "source": [
    "ls"
   ]
  },
  {
   "cell_type": "code",
   "execution_count": 4,
   "id": "9304c3f3",
   "metadata": {},
   "outputs": [],
   "source": [
    "import pandas as pd"
   ]
  },
  {
   "cell_type": "code",
   "execution_count": 5,
   "id": "64f62e05",
   "metadata": {},
   "outputs": [],
   "source": [
    "df_cost2021 = pd.read_csv('Payment_and_Value_of_Care-Hospital 2021.csv')\n"
   ]
  },
  {
   "cell_type": "code",
   "execution_count": 6,
   "id": "eadbca95",
   "metadata": {},
   "outputs": [
    {
     "data": {
      "text/plain": [
       "Index(['Facility ID', 'Facility Name', 'Address', 'City', 'State', 'ZIP Code',\n",
       "       'County Name', 'Phone Number', 'Payment Measure ID',\n",
       "       'Payment Measure Name', 'Payment Category', 'Denominator', 'Payment',\n",
       "       'Lower Estimate', 'Higher Estimate', 'Payment Footnote',\n",
       "       'Value of Care Display ID', 'Value of Care Display Name',\n",
       "       'Value of Care Category', 'Value of Care Footnote', 'Start Date',\n",
       "       'End Date'],\n",
       "      dtype='object')"
      ]
     },
     "execution_count": 6,
     "metadata": {},
     "output_type": "execute_result"
    }
   ],
   "source": [
    "df_cost2021.columns"
   ]
  },
  {
   "cell_type": "code",
   "execution_count": 7,
   "id": "2c24c01e",
   "metadata": {},
   "outputs": [
    {
     "data": {
      "text/plain": [
       "(18728, 22)"
      ]
     },
     "execution_count": 7,
     "metadata": {},
     "output_type": "execute_result"
    }
   ],
   "source": [
    "df_cost2021.shape"
   ]
  },
  {
   "cell_type": "code",
   "execution_count": 8,
   "id": "4f680ce8",
   "metadata": {},
   "outputs": [
    {
     "name": "stdout",
     "output_type": "stream",
     "text": [
      "<class 'pandas.core.frame.DataFrame'>\n",
      "RangeIndex: 18728 entries, 0 to 18727\n",
      "Data columns (total 22 columns):\n",
      " #   Column                      Non-Null Count  Dtype  \n",
      "---  ------                      --------------  -----  \n",
      " 0   Facility ID                 18728 non-null  int64  \n",
      " 1   Facility Name               18728 non-null  object \n",
      " 2   Address                     18728 non-null  object \n",
      " 3   City                        18728 non-null  object \n",
      " 4   State                       18728 non-null  object \n",
      " 5   ZIP Code                    18728 non-null  int64  \n",
      " 6   County Name                 18728 non-null  object \n",
      " 7   Phone Number                18728 non-null  object \n",
      " 8   Payment Measure ID          18728 non-null  object \n",
      " 9   Payment Measure Name        18728 non-null  object \n",
      " 10  Payment Category            18728 non-null  object \n",
      " 11  Denominator                 18728 non-null  object \n",
      " 12  Payment                     18728 non-null  object \n",
      " 13  Lower Estimate              18728 non-null  object \n",
      " 14  Higher Estimate             18728 non-null  object \n",
      " 15  Payment Footnote            7245 non-null   float64\n",
      " 16  Value of Care Display ID    18728 non-null  object \n",
      " 17  Value of Care Display Name  18728 non-null  object \n",
      " 18  Value of Care Category      18728 non-null  object \n",
      " 19  Value of Care Footnote      7251 non-null   float64\n",
      " 20  Start Date                  18728 non-null  object \n",
      " 21  End Date                    18728 non-null  object \n",
      "dtypes: float64(2), int64(2), object(18)\n",
      "memory usage: 3.1+ MB\n"
     ]
    }
   ],
   "source": [
    "df_cost2021.info()"
   ]
  },
  {
   "cell_type": "code",
   "execution_count": 9,
   "id": "dde0af3e",
   "metadata": {},
   "outputs": [
    {
     "data": {
      "text/html": [
       "<div>\n",
       "<style scoped>\n",
       "    .dataframe tbody tr th:only-of-type {\n",
       "        vertical-align: middle;\n",
       "    }\n",
       "\n",
       "    .dataframe tbody tr th {\n",
       "        vertical-align: top;\n",
       "    }\n",
       "\n",
       "    .dataframe thead th {\n",
       "        text-align: right;\n",
       "    }\n",
       "</style>\n",
       "<table border=\"1\" class=\"dataframe\">\n",
       "  <thead>\n",
       "    <tr style=\"text-align: right;\">\n",
       "      <th></th>\n",
       "      <th>Facility ID</th>\n",
       "      <th>Facility Name</th>\n",
       "      <th>Address</th>\n",
       "      <th>City</th>\n",
       "      <th>State</th>\n",
       "      <th>ZIP Code</th>\n",
       "      <th>County Name</th>\n",
       "      <th>Phone Number</th>\n",
       "      <th>Payment Measure ID</th>\n",
       "      <th>Payment Measure Name</th>\n",
       "      <th>...</th>\n",
       "      <th>Payment</th>\n",
       "      <th>Lower Estimate</th>\n",
       "      <th>Higher Estimate</th>\n",
       "      <th>Payment Footnote</th>\n",
       "      <th>Value of Care Display ID</th>\n",
       "      <th>Value of Care Display Name</th>\n",
       "      <th>Value of Care Category</th>\n",
       "      <th>Value of Care Footnote</th>\n",
       "      <th>Start Date</th>\n",
       "      <th>End Date</th>\n",
       "    </tr>\n",
       "  </thead>\n",
       "  <tbody>\n",
       "    <tr>\n",
       "      <th>0</th>\n",
       "      <td>10001</td>\n",
       "      <td>SOUTHEAST HEALTH MEDICAL CENTER</td>\n",
       "      <td>1108 ROSS CLARK CIRCLE</td>\n",
       "      <td>DOTHAN</td>\n",
       "      <td>AL</td>\n",
       "      <td>36301</td>\n",
       "      <td>Houston</td>\n",
       "      <td>(334) 793-8701</td>\n",
       "      <td>PAYM_30_AMI</td>\n",
       "      <td>Payment for heart attack patients</td>\n",
       "      <td>...</td>\n",
       "      <td>$24,768</td>\n",
       "      <td>$23,184</td>\n",
       "      <td>$26,483</td>\n",
       "      <td>NaN</td>\n",
       "      <td>MORT_PAYM_30_AMI</td>\n",
       "      <td>Value of Care Heart Attack measure</td>\n",
       "      <td>Average Mortality and Average Payment</td>\n",
       "      <td>NaN</td>\n",
       "      <td>07/01/2017</td>\n",
       "      <td>12/01/2019</td>\n",
       "    </tr>\n",
       "    <tr>\n",
       "      <th>1</th>\n",
       "      <td>10001</td>\n",
       "      <td>SOUTHEAST HEALTH MEDICAL CENTER</td>\n",
       "      <td>1108 ROSS CLARK CIRCLE</td>\n",
       "      <td>DOTHAN</td>\n",
       "      <td>AL</td>\n",
       "      <td>36301</td>\n",
       "      <td>Houston</td>\n",
       "      <td>(334) 793-8701</td>\n",
       "      <td>PAYM_30_HF</td>\n",
       "      <td>Payment for heart failure patients</td>\n",
       "      <td>...</td>\n",
       "      <td>$17,939</td>\n",
       "      <td>$17,089</td>\n",
       "      <td>$18,842</td>\n",
       "      <td>NaN</td>\n",
       "      <td>MORT_PAYM_30_HF</td>\n",
       "      <td>Value of Care Heart Failure measur</td>\n",
       "      <td>Better Mortality and Average Payment</td>\n",
       "      <td>NaN</td>\n",
       "      <td>07/01/2017</td>\n",
       "      <td>12/01/2019</td>\n",
       "    </tr>\n",
       "    <tr>\n",
       "      <th>2</th>\n",
       "      <td>10001</td>\n",
       "      <td>SOUTHEAST HEALTH MEDICAL CENTER</td>\n",
       "      <td>1108 ROSS CLARK CIRCLE</td>\n",
       "      <td>DOTHAN</td>\n",
       "      <td>AL</td>\n",
       "      <td>36301</td>\n",
       "      <td>Houston</td>\n",
       "      <td>(334) 793-8701</td>\n",
       "      <td>PAYM_30_PN</td>\n",
       "      <td>Payment for pneumonia patients</td>\n",
       "      <td>...</td>\n",
       "      <td>$20,712</td>\n",
       "      <td>$19,607</td>\n",
       "      <td>$21,844</td>\n",
       "      <td>NaN</td>\n",
       "      <td>MORT_PAYM_30_PN</td>\n",
       "      <td>Value of Care Pneumonia measure</td>\n",
       "      <td>Average Mortality and Higher Payment</td>\n",
       "      <td>NaN</td>\n",
       "      <td>07/01/2017</td>\n",
       "      <td>12/01/2019</td>\n",
       "    </tr>\n",
       "    <tr>\n",
       "      <th>3</th>\n",
       "      <td>10001</td>\n",
       "      <td>SOUTHEAST HEALTH MEDICAL CENTER</td>\n",
       "      <td>1108 ROSS CLARK CIRCLE</td>\n",
       "      <td>DOTHAN</td>\n",
       "      <td>AL</td>\n",
       "      <td>36301</td>\n",
       "      <td>Houston</td>\n",
       "      <td>(334) 793-8701</td>\n",
       "      <td>PAYM_90_HIP_KNEE</td>\n",
       "      <td>Payment for hip/knee replacement patients</td>\n",
       "      <td>...</td>\n",
       "      <td>$22,404</td>\n",
       "      <td>$21,190</td>\n",
       "      <td>$23,747</td>\n",
       "      <td>NaN</td>\n",
       "      <td>COMP_PAYM_90_HIP_KNEE</td>\n",
       "      <td>Value of Care hip/knee replacement</td>\n",
       "      <td>Average Complications and Higher Payment</td>\n",
       "      <td>NaN</td>\n",
       "      <td>04/01/2017</td>\n",
       "      <td>10/02/2019</td>\n",
       "    </tr>\n",
       "    <tr>\n",
       "      <th>4</th>\n",
       "      <td>10005</td>\n",
       "      <td>MARSHALL MEDICAL CENTERS</td>\n",
       "      <td>2505 U S HIGHWAY 431 NORTH</td>\n",
       "      <td>BOAZ</td>\n",
       "      <td>AL</td>\n",
       "      <td>35957</td>\n",
       "      <td>Marshall</td>\n",
       "      <td>(256) 593-8310</td>\n",
       "      <td>PAYM_30_AMI</td>\n",
       "      <td>Payment for heart attack patients</td>\n",
       "      <td>...</td>\n",
       "      <td>$26,174</td>\n",
       "      <td>$23,186</td>\n",
       "      <td>$29,706</td>\n",
       "      <td>NaN</td>\n",
       "      <td>MORT_PAYM_30_AMI</td>\n",
       "      <td>Value of Care Heart Attack measure</td>\n",
       "      <td>Average Mortality and Average Payment</td>\n",
       "      <td>NaN</td>\n",
       "      <td>07/01/2017</td>\n",
       "      <td>12/01/2019</td>\n",
       "    </tr>\n",
       "  </tbody>\n",
       "</table>\n",
       "<p>5 rows × 22 columns</p>\n",
       "</div>"
      ],
      "text/plain": [
       "   Facility ID                    Facility Name                     Address  \\\n",
       "0        10001  SOUTHEAST HEALTH MEDICAL CENTER      1108 ROSS CLARK CIRCLE   \n",
       "1        10001  SOUTHEAST HEALTH MEDICAL CENTER      1108 ROSS CLARK CIRCLE   \n",
       "2        10001  SOUTHEAST HEALTH MEDICAL CENTER      1108 ROSS CLARK CIRCLE   \n",
       "3        10001  SOUTHEAST HEALTH MEDICAL CENTER      1108 ROSS CLARK CIRCLE   \n",
       "4        10005         MARSHALL MEDICAL CENTERS  2505 U S HIGHWAY 431 NORTH   \n",
       "\n",
       "     City State  ZIP Code County Name    Phone Number Payment Measure ID  \\\n",
       "0  DOTHAN    AL     36301     Houston  (334) 793-8701        PAYM_30_AMI   \n",
       "1  DOTHAN    AL     36301     Houston  (334) 793-8701         PAYM_30_HF   \n",
       "2  DOTHAN    AL     36301     Houston  (334) 793-8701         PAYM_30_PN   \n",
       "3  DOTHAN    AL     36301     Houston  (334) 793-8701   PAYM_90_HIP_KNEE   \n",
       "4    BOAZ    AL     35957    Marshall  (256) 593-8310        PAYM_30_AMI   \n",
       "\n",
       "                        Payment Measure Name  ...  Payment Lower Estimate  \\\n",
       "0          Payment for heart attack patients  ...  $24,768        $23,184   \n",
       "1         Payment for heart failure patients  ...  $17,939        $17,089   \n",
       "2             Payment for pneumonia patients  ...  $20,712        $19,607   \n",
       "3  Payment for hip/knee replacement patients  ...  $22,404        $21,190   \n",
       "4          Payment for heart attack patients  ...  $26,174        $23,186   \n",
       "\n",
       "  Higher Estimate Payment Footnote Value of Care Display ID  \\\n",
       "0         $26,483              NaN         MORT_PAYM_30_AMI   \n",
       "1         $18,842              NaN          MORT_PAYM_30_HF   \n",
       "2         $21,844              NaN          MORT_PAYM_30_PN   \n",
       "3         $23,747              NaN    COMP_PAYM_90_HIP_KNEE   \n",
       "4         $29,706              NaN         MORT_PAYM_30_AMI   \n",
       "\n",
       "           Value of Care Display Name  \\\n",
       "0  Value of Care Heart Attack measure   \n",
       "1  Value of Care Heart Failure measur   \n",
       "2     Value of Care Pneumonia measure   \n",
       "3  Value of Care hip/knee replacement   \n",
       "4  Value of Care Heart Attack measure   \n",
       "\n",
       "                     Value of Care Category Value of Care Footnote  \\\n",
       "0     Average Mortality and Average Payment                    NaN   \n",
       "1      Better Mortality and Average Payment                    NaN   \n",
       "2      Average Mortality and Higher Payment                    NaN   \n",
       "3  Average Complications and Higher Payment                    NaN   \n",
       "4     Average Mortality and Average Payment                    NaN   \n",
       "\n",
       "   Start Date    End Date  \n",
       "0  07/01/2017  12/01/2019  \n",
       "1  07/01/2017  12/01/2019  \n",
       "2  07/01/2017  12/01/2019  \n",
       "3  04/01/2017  10/02/2019  \n",
       "4  07/01/2017  12/01/2019  \n",
       "\n",
       "[5 rows x 22 columns]"
      ]
     },
     "execution_count": 9,
     "metadata": {},
     "output_type": "execute_result"
    }
   ],
   "source": [
    "df_cost2021.head()"
   ]
  },
  {
   "cell_type": "code",
   "execution_count": 10,
   "id": "2724e8bd",
   "metadata": {},
   "outputs": [],
   "source": [
    "df_cost2021.to_excel(r'/Users/camilaprada/Documents/IronHack DAPT55/55_DAPT-master/Projetos/Projeto final Healthcare/Data raw/Master Data/HVBP from 2014/hvpbcost2021.xlsx', index = False, header = True)\n"
   ]
  },
  {
   "cell_type": "code",
   "execution_count": null,
   "id": "51cce9e5",
   "metadata": {},
   "outputs": [],
   "source": []
  },
  {
   "cell_type": "code",
   "execution_count": null,
   "id": "24fd9431",
   "metadata": {},
   "outputs": [],
   "source": []
  }
 ],
 "metadata": {
  "kernelspec": {
   "display_name": "Python 3 (ipykernel)",
   "language": "python",
   "name": "python3"
  },
  "language_info": {
   "codemirror_mode": {
    "name": "ipython",
    "version": 3
   },
   "file_extension": ".py",
   "mimetype": "text/x-python",
   "name": "python",
   "nbconvert_exporter": "python",
   "pygments_lexer": "ipython3",
   "version": "3.9.5"
  }
 },
 "nbformat": 4,
 "nbformat_minor": 5
}
